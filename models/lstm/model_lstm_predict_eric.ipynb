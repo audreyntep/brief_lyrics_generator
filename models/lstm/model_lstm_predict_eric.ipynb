{
  "cells": [
    {
      "cell_type": "markdown",
      "metadata": {
        "colab": {
          "base_uri": "https://localhost:8080/",
          "height": 53
        },
        "id": "-mHauVoZQglH",
        "outputId": "d238f3c2-20db-4ad0-d4bf-89c09bb7f668"
      },
      "source": [
        "Script to generate text from an already trained network (with lstm_train.py)\n",
        "--By word--\n",
        "It is necessary to at least provide the trained model and the vocabulary file\n",
        "(generated also by lstm_train.py)."
      ]
    },
    {
      "cell_type": "code",
      "execution_count": 1,
      "metadata": {
        "id": "5ED2BmINQgW_"
      },
      "outputs": [],
      "source": [
        "import numpy as np\n",
        "import re\n",
        "from keras.models import load_model"
      ]
    },
    {
      "cell_type": "code",
      "execution_count": 2,
      "metadata": {
        "id": "0ce_fJHuQb5f"
      },
      "outputs": [],
      "source": [
        "def validate_seed(vocabulary, seed):\n",
        "    \"\"\"Validate that all the words in the seed are part of the vocabulary\"\"\"\n",
        "    print(\"\\nValidating that all the words in the seed are part of the vocabulary: \")\n",
        "    seed_words = seed.split(\" \")\n",
        "    valid = True\n",
        "    for w in seed_words:\n",
        "        print(w, end=\"\")\n",
        "        if w in vocabulary:\n",
        "            print(\" ✓ in vocabulary\")\n",
        "        else:\n",
        "            print(\" ✗ NOT in vocabulary\")\n",
        "            valid = False\n",
        "    return valid\n",
        "\n",
        "\n",
        "# Functions from keras-team/keras/blob/master/examples/lstm_text_generation.py\n",
        "def sample(preds, temperature=1.0):\n",
        "    # helper function to sample an index from a probability array\n",
        "    preds = np.asarray(preds).astype('float64')\n",
        "    preds = np.log(preds) / temperature\n",
        "    exp_preds = np.exp(preds)\n",
        "    preds = exp_preds / np.sum(exp_preds)\n",
        "    probas = np.random.multinomial(1, preds, 1)\n",
        "    return np.argmax(probas)\n",
        "\n",
        "\n",
        "def generate_text(model, indices_word, word_indices, seed,\n",
        "                  sequence_length, diversity, quantity):\n",
        "    \"\"\"\n",
        "    Similar to lstm_train::on_epoch_end\n",
        "    Used to generate text using a trained model\n",
        "    :param model: the trained Keras model (with model.load)\n",
        "    :param indices_word: a dictionary pointing to the words\n",
        "    :param seed: a string to be used as seed (already validated and padded)\n",
        "    :param sequence_length: how many words are given to the model to generate\n",
        "    :param diversity: is the \"temperature\" of the sample function (usually between 0.1 and 2)\n",
        "    :param quantity: quantity of words to generate\n",
        "    :return: Nothing, for now only writes the text to console\n",
        "    \"\"\"\n",
        "    sentence = seed.split(\" \")\n",
        "    print(\"----- Generating text\")\n",
        "    print('----- Diversity:' + str(diversity))\n",
        "    print('----- Generating with seed:\\n\"' + seed)\n",
        "\n",
        "    print(seed)\n",
        "    for i in range(quantity):\n",
        "        x_pred = np.zeros((1, sequence_length, len(vocabulary)))\n",
        "        for t, word in enumerate(sentence):\n",
        "            x_pred[0, t, word_indices[word]] = 1.\n",
        "\n",
        "        preds = model.predict(x_pred, verbose=0)[0]\n",
        "        next_index = sample(preds, diversity)\n",
        "        next_word = indices_word[next_index]\n",
        "\n",
        "        sentence = sentence[1:]\n",
        "        sentence.append(next_word)\n",
        "\n",
        "        print(\" \"+next_word, end=\"\")\n",
        "    print(\"\\n\")"
      ]
    },
    {
      "cell_type": "code",
      "execution_count": 4,
      "metadata": {
        "colab": {
          "base_uri": "https://localhost:8080/"
        },
        "id": "JsZwXF9MRQNm",
        "outputId": "30525297-6e05-49f1-921e-666423f84886"
      },
      "outputs": [
        {
          "name": "stdout",
          "output_type": "stream",
          "text": [
            "\n",
            "Summary of the Network: \n",
            "Model: \"sequential\"\n",
            "_________________________________________________________________\n",
            " Layer (type)                Output Shape              Param #   \n",
            "=================================================================\n",
            " bidirectional (Bidirectiona  (None, 256)              29765632  \n",
            " l)                                                              \n",
            "                                                                 \n",
            " dropout (Dropout)           (None, 256)               0         \n",
            "                                                                 \n",
            " dense (Dense)               (None, 28939)             7437323   \n",
            "                                                                 \n",
            " activation (Activation)     (None, 28939)             0         \n",
            "                                                                 \n",
            "=================================================================\n",
            "Total params: 37,202,955\n",
            "Trainable params: 37,202,955\n",
            "Non-trainable params: 0\n",
            "_________________________________________________________________\n"
          ]
        }
      ],
      "source": [
        "model = load_model('../save/LSTM_simple_model_v3.h5')\n",
        "print(\"\\nSummary of the Network: \")\n",
        "model.summary()"
      ]
    },
    {
      "cell_type": "code",
      "execution_count": 6,
      "metadata": {
        "id": "lw3QZiWxTgOA"
      },
      "outputs": [],
      "source": [
        "vocabulary = open('../save/vocab_v3.txt', \"r\", encoding=\"utf8\").readlines()\n",
        "# remove the \\n at the end of the word, except for the \\n word itself\n",
        "vocabulary = [re.sub(r'(\\S+)\\s+', r'\\1', w) for w in vocabulary]\n",
        "vocabulary = sorted(set(vocabulary))\n",
        "\n",
        "word_indices = dict((c, i) for i, c in enumerate(vocabulary))\n",
        "indices_word = dict((i, c) for i, c in enumerate(vocabulary))"
      ]
    },
    {
      "cell_type": "code",
      "execution_count": null,
      "metadata": {
        "id": "P63GpyCNThnn"
      },
      "outputs": [],
      "source": [
        "sequence_length = 20\n",
        "diversity = 1\n",
        "quantity = 200"
      ]
    },
    {
      "cell_type": "code",
      "execution_count": null,
      "metadata": {
        "id": "wD4u9cUgsdH_"
      },
      "outputs": [],
      "source": [
        "# seed = \"my name is\"\n",
        "# seed = 'be mine tonight tomorrow will be too late'\n",
        "# seed = 'have i ever know what you do not what i'\n",
        "# eed = 'this is the beginning of my life of me and my face'"
      ]
    },
    {
      "cell_type": "code",
      "execution_count": null,
      "metadata": {
        "id": "CpoK3mMusXp3"
      },
      "outputs": [],
      "source": [
        "seed = 'you are the sunshine of my life that s why i ll always be around you are the apple of'\n"
      ]
    },
    {
      "cell_type": "code",
      "execution_count": null,
      "metadata": {
        "colab": {
          "base_uri": "https://localhost:8080/"
        },
        "id": "PW7NmH0bRVme",
        "outputId": "a95d9cb7-d9af-4c3e-cb31-2bd592f309d6"
      },
      "outputs": [
        {
          "name": "stdout",
          "output_type": "stream",
          "text": [
            "\n",
            "Validating that all the words in the seed are part of the vocabulary: \n",
            "you ✓ in vocabulary\n",
            "are ✓ in vocabulary\n",
            "the ✓ in vocabulary\n",
            "sunshine ✓ in vocabulary\n",
            "of ✓ in vocabulary\n",
            "my ✓ in vocabulary\n",
            "life ✓ in vocabulary\n",
            "that ✓ in vocabulary\n",
            "s ✓ in vocabulary\n",
            "why ✓ in vocabulary\n",
            "i ✓ in vocabulary\n",
            "ll ✓ in vocabulary\n",
            "always ✓ in vocabulary\n",
            "be ✓ in vocabulary\n",
            "around ✓ in vocabulary\n",
            "you ✓ in vocabulary\n",
            "are ✓ in vocabulary\n",
            "the ✓ in vocabulary\n",
            "apple ✓ in vocabulary\n",
            "of ✓ in vocabulary\n",
            "\n",
            "Seed is correct.\n",
            "\n",
            "----- Generating text\n",
            "----- Diversity:1\n",
            "----- Generating with seed:\n",
            "\"you are the sunshine of my life that s why i ll always be around you are the apple of\n",
            "you are the sunshine of my life that s why i ll always be around you are the apple of\n",
            " you i'm something \n",
            " but you sitting in the sleep of the bridge \n",
            " ring them stand and could send me down beyond your mind, \n",
            " i get bell lazy this head is a chance \n",
            " i ain't this for given to show \n",
            " \n",
            " they just get to the promised \n",
            " 'cause i got to know, that i got love \n",
            " in this lies \n",
            " i guess i got no left to me \n",
            " \n",
            " i feel a song it's this evening \n",
            " i said, standing over here and you're me \n",
            " \n",
            " i can't get no sound of one goodbye. \n",
            " \n",
            " feet are the left to romance \n",
            " if you give the one one by the placed \n",
            " and ever won what you've will \n",
            " give to a this see \n",
            " if i just don't care, what up it desires \n",
            " strength to hear me say goodbye \n",
            " who's all my love's been open my door \n",
            " \n",
            " why don't you my soul \n",
            " don't dry your footsteps \n",
            " she's still the wrong again \n",
            " forget your mind just it ends \n",
            " against you still, to stay one more \n",
            " \n",
            " to the lamb heaven \n",
            " live\n",
            "\n"
          ]
        }
      ],
      "source": [
        "if validate_seed(vocabulary, seed):\n",
        "    print(\"\\nSeed is correct.\\n\")\n",
        "    # repeat the seed in case is not long enough, and take only the last elements\n",
        "    seed = \" \".join((((seed+\" \")*sequence_length)+seed).split(\" \")[-sequence_length:])\n",
        "    generate_text(\n",
        "        model, indices_word, word_indices, seed, sequence_length, diversity, quantity\n",
        "    )\n",
        "else:\n",
        "    print('\\033[91mERROR: Please fix the seed string\\033[0m')\n",
        "    exit(0)"
      ]
    }
  ],
  "metadata": {
    "colab": {
      "collapsed_sections": [],
      "provenance": []
    },
    "kernelspec": {
      "display_name": "Python 3.10.2 ('.env': venv)",
      "language": "python",
      "name": "python3"
    },
    "language_info": {
      "codemirror_mode": {
        "name": "ipython",
        "version": 3
      },
      "file_extension": ".py",
      "mimetype": "text/x-python",
      "name": "python",
      "nbconvert_exporter": "python",
      "pygments_lexer": "ipython3",
      "version": "3.10.2"
    },
    "vscode": {
      "interpreter": {
        "hash": "a56046da640a8b62189484cf1ab9a225355c89bf0946515608a942c5510f10bc"
      }
    }
  },
  "nbformat": 4,
  "nbformat_minor": 0
}
